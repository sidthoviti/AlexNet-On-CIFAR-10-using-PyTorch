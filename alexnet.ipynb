{
 "cells": [
  {
   "cell_type": "code",
   "execution_count": 1,
   "id": "3a7563b2",
   "metadata": {},
   "outputs": [],
   "source": [
    "import torch\n",
    "import torchvision\n",
    "from torchvision import datasets, models, transforms\n",
    "import torch.nn as nn\n",
    "import torch.optim as optim\n",
    "import time\n",
    "import os\n",
    "import copy\n",
    "import torch.nn.functional as F"
   ]
  },
  {
   "cell_type": "code",
   "execution_count": 2,
   "id": "725e0f57",
   "metadata": {},
   "outputs": [
    {
     "name": "stdout",
     "output_type": "stream",
     "text": [
      "Downloading https://www.cs.toronto.edu/~kriz/cifar-10-python.tar.gz to ./data/cifar-10-python.tar.gz\n"
     ]
    },
    {
     "name": "stderr",
     "output_type": "stream",
     "text": [
      "100.0%\n"
     ]
    },
    {
     "name": "stdout",
     "output_type": "stream",
     "text": [
      "Extracting ./data/cifar-10-python.tar.gz to ./data\n",
      "Files already downloaded and verified\n"
     ]
    }
   ],
   "source": [
    "# Set up preprocessing of CIFAR-10 images to 3x224x224 with normalization\n",
    "preprocess = transforms.Compose([\n",
    "    transforms.Resize(256),\n",
    "    transforms.CenterCrop(224),\n",
    "    transforms.ToTensor(),\n",
    "    transforms.Normalize((0.4914, 0.4822, 0.4465), (0.2023, 0.1994, 0.2010))])\n",
    "\n",
    "# Download CIFAR-10 and split into training, validation, and test sets\n",
    "\n",
    "train_dataset = torchvision.datasets.CIFAR10(root='./data', train=True,\n",
    "                                             download=True, transform=preprocess)\n",
    "\n",
    "# Split the training set into training and validation sets randomly.\n",
    "# CIFAR-10 train contains 50,000 examples, so let's split 80%-20%.\n",
    "\n",
    "train_dataset, val_dataset = torch.utils.data.random_split(train_dataset, [40000, 10000])\n",
    "\n",
    "# Download the test set.\n",
    "test_dataset = torchvision.datasets.CIFAR10(root='./data', train=False,\n",
    "                                            download=True, transform=preprocess)"
   ]
  },
  {
   "cell_type": "code",
   "execution_count": 3,
   "id": "b76c41f6",
   "metadata": {},
   "outputs": [],
   "source": [
    "train_dataloader = torch.utils.data.DataLoader(train_dataset, batch_size=8,\n",
    "                                               shuffle=True, num_workers=2)\n",
    "val_dataloader = torch.utils.data.DataLoader(val_dataset, batch_size=8,\n",
    "                                             shuffle=False, num_workers=8)\n",
    "test_dataloader = torch.utils.data.DataLoader(test_dataset, batch_size=8,\n",
    "                                              shuffle=False, num_workers=2)"
   ]
  },
  {
   "cell_type": "code",
   "execution_count": 4,
   "id": "edc07f18",
   "metadata": {},
   "outputs": [
    {
     "name": "stdout",
     "output_type": "stream",
     "text": [
      "Using device cuda:3\n"
     ]
    }
   ],
   "source": [
    "device = torch.device(\"cuda:3\" if torch.cuda.is_available() else \"cpu\")\n",
    "print('Using device', device)"
   ]
  },
  {
   "cell_type": "markdown",
   "id": "19408355",
   "metadata": {},
   "source": [
    "## Alexnet without LRN"
   ]
  },
  {
   "cell_type": "code",
   "execution_count": 5,
   "id": "85c09ca3",
   "metadata": {},
   "outputs": [],
   "source": [
    "class AlexNetModule(nn.Module):\n",
    "    '''\n",
    "    An AlexNet-like CNN\n",
    "\n",
    "    Attributes\n",
    "    ----------\n",
    "    num_classes : int\n",
    "        Number of classes in the final multinomial output layer\n",
    "    features : Sequential\n",
    "        The feature extraction portion of the network\n",
    "    avgpool : AdaptiveAvgPool2d\n",
    "        Convert the final feature layer to 6x6 feature maps by average pooling if they are not already 6x6\n",
    "    classifier : Sequential\n",
    "        Classify the feature maps into num_classes classes\n",
    "    '''\n",
    "    def __init__(self, num_classes: int = 10) -> None:\n",
    "        super().__init__()\n",
    "        self.num_classes = num_classes\n",
    "        self.features = nn.Sequential(\n",
    "            nn.Conv2d(3, 64, kernel_size=11, stride=4, padding=2),\n",
    "            nn.ReLU(inplace=True),\n",
    "            nn.MaxPool2d(kernel_size=3, stride=2),\n",
    "            nn.Conv2d(64, 192, kernel_size=5, padding=2),\n",
    "            nn.ReLU(inplace=True),\n",
    "            nn.MaxPool2d(kernel_size=3, stride=2),\n",
    "            nn.Conv2d(192, 384, kernel_size=3, padding=1),\n",
    "            nn.ReLU(inplace=True),\n",
    "            nn.Conv2d(384, 256, kernel_size=3, padding=1),\n",
    "            nn.ReLU(inplace=True),\n",
    "            nn.Conv2d(256, 256, kernel_size=3, padding=1),\n",
    "            nn.ReLU(inplace=True),\n",
    "            nn.MaxPool2d(kernel_size=3, stride=2),\n",
    "        )\n",
    "        self.avgpool = nn.AdaptiveAvgPool2d((6, 6))\n",
    "        self.classifier = nn.Sequential(\n",
    "            nn.Dropout(),\n",
    "            nn.Linear(256 * 6 * 6, 4096),\n",
    "            nn.ReLU(inplace=True),\n",
    "            nn.Dropout(),\n",
    "            nn.Linear(4096, 4096),\n",
    "            nn.ReLU(inplace=True),\n",
    "            nn.Linear(4096, num_classes),\n",
    "        )\n",
    "\n",
    "    def forward(self, x: torch.Tensor) -> torch.Tensor:\n",
    "        x = self.features(x)\n",
    "        x = self.avgpool(x)\n",
    "        x = torch.flatten(x, 1)\n",
    "        x = self.classifier(x)\n",
    "        return x"
   ]
  },
  {
   "cell_type": "markdown",
   "id": "a0c40c34",
   "metadata": {},
   "source": [
    "### Training the Model (without LRN)"
   ]
  },
  {
   "cell_type": "code",
   "execution_count": 10,
   "id": "1f486668",
   "metadata": {},
   "outputs": [],
   "source": [
    "def train_model(model, dataloaders, criterion, optimizer, num_epochs=25, weights_name='weight_save', is_inception=False):\n",
    "    '''\n",
    "    train_model function\n",
    "\n",
    "    Train a PyTorch model for a given number of epochs.\n",
    "    \n",
    "            Parameters:\n",
    "                    model: Pytorch model\n",
    "                    dataloaders: dataset\n",
    "                    criterion: loss function\n",
    "                    optimizer: update weights function\n",
    "                    num_epochs: number of epochs\n",
    "                    weights_name: file name to save weights\n",
    "                    is_inception: The model is inception net (Google LeNet) or not\n",
    "\n",
    "            Returns:\n",
    "                    model: Best model from evaluation result\n",
    "                    val_acc_history: evaluation accuracy history\n",
    "                    loss_acc_history: loss value history\n",
    "    '''\n",
    "    since = time.time()\n",
    "\n",
    "    val_acc_history = []\n",
    "    loss_acc_history = []\n",
    "\n",
    "    best_model_wts = copy.deepcopy(model.state_dict())\n",
    "    best_acc = 0.0\n",
    "\n",
    "    for epoch in range(num_epochs):\n",
    "        epoch_start = time.time()\n",
    "\n",
    "        print('Epoch {}/{}'.format(epoch, num_epochs - 1))\n",
    "        print('-' * 10)\n",
    "\n",
    "        # Each epoch has a training and validation phase\n",
    "        for phase in ['train', 'val']:\n",
    "            if phase == 'train':\n",
    "                model.train()  # Set model to training mode\n",
    "            else:\n",
    "                model.eval()   # Set model to evaluate mode\n",
    "\n",
    "            running_loss = 0.0\n",
    "            running_corrects = 0\n",
    "\n",
    "            # Iterate over the train/validation dataset according to which phase we're in\n",
    "            \n",
    "            for inputs, labels in dataloaders[phase]:\n",
    "\n",
    "                # Inputs is one batch of input images, and labels is a corresponding vector of integers\n",
    "                # labeling each image in the batch. First, we move these tensors to our target device.\n",
    "                \n",
    "                inputs = inputs.to(device)\n",
    "                labels = labels.to(device)\n",
    "\n",
    "                # Zero out any parameter gradients that have previously been calculated. Parameter\n",
    "                # gradients accumulate over as many backward() passes as we let them, so they need\n",
    "                # to be zeroed out after each optimizer step.\n",
    "\n",
    "                optimizer.zero_grad()\n",
    "\n",
    "                # Instruct PyTorch to track gradients only if this is the training phase, then run the\n",
    "                # forward propagation and optionally the backward propagation step for this iteration.\n",
    "\n",
    "                with torch.set_grad_enabled(phase == 'train'):\n",
    "                    # The inception model is a special case during training because it has an auxiliary\n",
    "                    # output used to encourage discriminative representations in the deeper feature maps.\n",
    "                    # We need to calculate loss for both outputs. Otherwise, we have a single output to\n",
    "                    # calculate the loss on.\n",
    "                    if is_inception and phase == 'train':\n",
    "                        # From https://discuss.pytorch.org/t/how-to-optimize-inception-model-with-auxiliary-classifiers/7958\n",
    "                        outputs, aux_outputs = model(inputs)\n",
    "                        loss1 = criterion(outputs, labels)\n",
    "                        loss2 = criterion(aux_outputs, labels)\n",
    "                        loss = loss1 + 0.4 * loss2\n",
    "                    else:\n",
    "                        outputs = model(inputs)\n",
    "                        loss = criterion(outputs, labels)\n",
    "\n",
    "                    _, preds = torch.max(outputs, 1)\n",
    "\n",
    "                    # Backpropagate only if in training phase\n",
    "\n",
    "                    if phase == 'train':\n",
    "                        loss.backward()\n",
    "                        optimizer.step()\n",
    "\n",
    "                # Gather our summary statistics\n",
    "                \n",
    "                running_loss += loss.item() * inputs.size(0)\n",
    "                running_corrects += torch.sum(preds == labels.data)\n",
    "\n",
    "            epoch_loss = running_loss / len(dataloaders[phase].dataset)\n",
    "            epoch_acc = running_corrects.double() / len(dataloaders[phase].dataset)\n",
    "            epoch_end = time.time()\n",
    "            \n",
    "            elapsed_epoch = epoch_end - epoch_start\n",
    "\n",
    "            print('{} Loss: {:.4f} Acc: {:.4f}'.format(phase, epoch_loss, epoch_acc))\n",
    "            print(\"Epoch time taken: \", elapsed_epoch)\n",
    "\n",
    "            # If this is the best model on the validation set so far, deep copy it\n",
    "\n",
    "            if phase == 'val' and epoch_acc > best_acc:\n",
    "                best_acc = epoch_acc\n",
    "                best_model_wts = copy.deepcopy(model.state_dict())\n",
    "                torch.save(model.state_dict(), weights_name + \".pth\")\n",
    "            if phase == 'val':\n",
    "                val_acc_history.append(epoch_acc)\n",
    "            if phase == 'train':\n",
    "                loss_acc_history.append(epoch_loss)\n",
    "\n",
    "        print()\n",
    "\n",
    "    # Output summary statistics, load the best weight set, and return results\n",
    "    \n",
    "    time_elapsed = time.time() - since\n",
    "    print('Training complete in {:.0f}m {:.0f}s'.format(time_elapsed // 60, time_elapsed % 60))\n",
    "    print('Best val Acc: {:4f}'.format(best_acc))\n",
    "    model.load_state_dict(best_model_wts)\n",
    "    return model, val_acc_history, loss_acc_history"
   ]
  },
  {
   "cell_type": "code",
   "execution_count": 8,
   "id": "43834158",
   "metadata": {},
   "outputs": [],
   "source": [
    "alexnet_module = AlexNetModule(10)\n",
    "alexnet_module = alexnet_module.to(device)"
   ]
  },
  {
   "cell_type": "code",
   "execution_count": 15,
   "id": "629d4331",
   "metadata": {},
   "outputs": [],
   "source": [
    "# Declare Optimizer and Loss function\n",
    "criterion = nn.CrossEntropyLoss()\n",
    "params_to_update = alexnet_module.parameters()\n",
    "optimizer = optim.SGD(params_to_update, lr=0.001, momentum=0.9)\n",
    "dataloaders = { 'train': train_dataloader, 'val': val_dataloader }"
   ]
  },
  {
   "cell_type": "code",
   "execution_count": 26,
   "id": "50325eb3",
   "metadata": {},
   "outputs": [
    {
     "name": "stdout",
     "output_type": "stream",
     "text": [
      "AlexNetModule(\n",
      "  (features): Sequential(\n",
      "    (0): Conv2d(3, 64, kernel_size=(11, 11), stride=(4, 4), padding=(2, 2))\n",
      "    (1): ReLU(inplace=True)\n",
      "    (2): MaxPool2d(kernel_size=3, stride=2, padding=0, dilation=1, ceil_mode=False)\n",
      "    (3): Conv2d(64, 192, kernel_size=(5, 5), stride=(1, 1), padding=(2, 2))\n",
      "    (4): ReLU(inplace=True)\n",
      "    (5): MaxPool2d(kernel_size=3, stride=2, padding=0, dilation=1, ceil_mode=False)\n",
      "    (6): Conv2d(192, 384, kernel_size=(3, 3), stride=(1, 1), padding=(1, 1))\n",
      "    (7): ReLU(inplace=True)\n",
      "    (8): Conv2d(384, 256, kernel_size=(3, 3), stride=(1, 1), padding=(1, 1))\n",
      "    (9): ReLU(inplace=True)\n",
      "    (10): Conv2d(256, 256, kernel_size=(3, 3), stride=(1, 1), padding=(1, 1))\n",
      "    (11): ReLU(inplace=True)\n",
      "    (12): MaxPool2d(kernel_size=3, stride=2, padding=0, dilation=1, ceil_mode=False)\n",
      "  )\n",
      "  (avgpool): AdaptiveAvgPool2d(output_size=(6, 6))\n",
      "  (classifier): Sequential(\n",
      "    (0): Dropout(p=0.5, inplace=False)\n",
      "    (1): Linear(in_features=9216, out_features=4096, bias=True)\n",
      "    (2): ReLU(inplace=True)\n",
      "    (3): Dropout(p=0.5, inplace=False)\n",
      "    (4): Linear(in_features=4096, out_features=4096, bias=True)\n",
      "    (5): ReLU(inplace=True)\n",
      "    (6): Linear(in_features=4096, out_features=10, bias=True)\n",
      "  )\n",
      ") has 57,044,810 trainable parameters\n"
     ]
    }
   ],
   "source": [
    "def count_parameters(model):\n",
    "    return sum(p.numel() for p in model.parameters() if p.requires_grad)\n",
    "\n",
    "print(f'{alexnet_module} has {count_parameters(alexnet_module):,} trainable parameters')"
   ]
  },
  {
   "cell_type": "code",
   "execution_count": 16,
   "id": "904f6cc3",
   "metadata": {},
   "outputs": [
    {
     "name": "stdout",
     "output_type": "stream",
     "text": [
      "Epoch 0/9\n",
      "----------\n",
      "train Loss: 1.8855 Acc: 0.2951\n",
      "Epoch time taken:  70.91814684867859\n",
      "val Loss: 1.4819 Acc: 0.4566\n",
      "Epoch time taken:  79.6519284248352\n",
      "\n",
      "Epoch 1/9\n",
      "----------\n",
      "train Loss: 1.3659 Acc: 0.5036\n",
      "Epoch time taken:  70.99247431755066\n",
      "val Loss: 1.1979 Acc: 0.5828\n",
      "Epoch time taken:  80.41460013389587\n",
      "\n",
      "Epoch 2/9\n",
      "----------\n",
      "train Loss: 1.0709 Acc: 0.6220\n",
      "Epoch time taken:  71.02509784698486\n",
      "val Loss: 0.9565 Acc: 0.6684\n",
      "Epoch time taken:  80.34270143508911\n",
      "\n",
      "Epoch 3/9\n",
      "----------\n",
      "train Loss: 0.8802 Acc: 0.6930\n",
      "Epoch time taken:  70.96978902816772\n",
      "val Loss: 0.8165 Acc: 0.7155\n",
      "Epoch time taken:  80.23604583740234\n",
      "\n",
      "Epoch 4/9\n",
      "----------\n",
      "train Loss: 0.7521 Acc: 0.7370\n",
      "Epoch time taken:  71.11232781410217\n",
      "val Loss: 0.7440 Acc: 0.7436\n",
      "Epoch time taken:  80.03633642196655\n",
      "\n",
      "Epoch 5/9\n",
      "----------\n",
      "train Loss: 0.6524 Acc: 0.7741\n",
      "Epoch time taken:  70.72066235542297\n",
      "val Loss: 0.7149 Acc: 0.7563\n",
      "Epoch time taken:  79.38393473625183\n",
      "\n",
      "Epoch 6/9\n",
      "----------\n",
      "train Loss: 0.5675 Acc: 0.8035\n",
      "Epoch time taken:  70.94616985321045\n",
      "val Loss: 0.6480 Acc: 0.7831\n",
      "Epoch time taken:  79.71998524665833\n",
      "\n",
      "Epoch 7/9\n",
      "----------\n",
      "train Loss: 0.4925 Acc: 0.8294\n",
      "Epoch time taken:  71.39623284339905\n",
      "val Loss: 0.6324 Acc: 0.7892\n",
      "Epoch time taken:  80.41248273849487\n",
      "\n",
      "Epoch 8/9\n",
      "----------\n",
      "train Loss: 0.4281 Acc: 0.8515\n",
      "Epoch time taken:  71.7537727355957\n",
      "val Loss: 0.6169 Acc: 0.7958\n",
      "Epoch time taken:  80.46612358093262\n",
      "\n",
      "Epoch 9/9\n",
      "----------\n",
      "train Loss: 0.3843 Acc: 0.8650\n",
      "Epoch time taken:  71.32915115356445\n",
      "val Loss: 0.5963 Acc: 0.8100\n",
      "Epoch time taken:  80.53137850761414\n",
      "\n",
      "Training complete in 13m 51s\n",
      "Best val Acc: 0.810000\n"
     ]
    }
   ],
   "source": [
    "best_model, val_acc_history, loss_acc_history = train_model(alexnet_module, dataloaders, criterion, optimizer, 10, 'alex_module_lr_0.001_bestsofar')"
   ]
  },
  {
   "cell_type": "code",
   "execution_count": 17,
   "id": "8dde8a2c",
   "metadata": {},
   "outputs": [],
   "source": [
    "import matplotlib.pyplot as plt\n",
    "\n",
    "def plot_data(val_acc_history, loss_acc_history):\n",
    "    plt.plot(loss_acc_history, label = 'Validation')\n",
    "    plt.title('Loss per epoch')\n",
    "    plt.legend()\n",
    "    plt.show()\n",
    "    plt.plot(val_acc_history, label = 'Validation')\n",
    "    plt.title('Accuracy per epoch')\n",
    "    plt.legend()\n",
    "    plt.show()"
   ]
  },
  {
   "cell_type": "code",
   "execution_count": 18,
   "id": "b4cca481",
   "metadata": {},
   "outputs": [
    {
     "data": {
      "image/png": "[encoded data removed]",
      "text/plain": [
       "<Figure size 432x288 with 1 Axes>"
      ]
     },
     "metadata": {
      "needs_background": "light"
     },
     "output_type": "display_data"
    },
    {
     "data": {
      "image/png": "[encoded data removed]",
      "text/plain": [
       "<Figure size 432x288 with 1 Axes>"
      ]
     },
     "metadata": {
      "needs_background": "light"
     },
     "output_type": "display_data"
    }
   ],
   "source": [
    "plot_data(val_acc_history, loss_acc_history)"
   ]
  },
  {
   "cell_type": "markdown",
   "id": "4656d109",
   "metadata": {},
   "source": [
    "## Alexnet with LRN"
   ]
  },
  {
   "cell_type": "code",
   "execution_count": 19,
   "id": "d6fc4229",
   "metadata": {},
   "outputs": [],
   "source": [
    "class AlexNetModuleLRN(nn.Module):\n",
    "    '''\n",
    "    An AlexNet-like CNN\n",
    "    Attributes\n",
    "    ----------\n",
    "    num_classes : int\n",
    "        Number of classes in the final multinomial output layer\n",
    "    features : Sequential\n",
    "        The feature extraction portion of the network\n",
    "    avgpool : AdaptiveAvgPool2d\n",
    "        Convert the final feature layer to 6x6 feature maps by average pooling if they are not already 6x6\n",
    "    classifier : Sequential\n",
    "        Classify the feature maps into num_classes classes\n",
    "    '''\n",
    "    def __init__(self, num_classes: int = 10) -> None:\n",
    "        super().__init__()\n",
    "        self.num_classes = num_classes\n",
    "        self.features = nn.Sequential(\n",
    "            nn.Conv2d(3, 64, kernel_size=11, stride=4, padding=2),\n",
    "            nn.ReLU(inplace=True),\n",
    "            nn.LocalResponseNorm(5, alpha = 0.0001, beta = 0.75, k = 2.0),\n",
    "            nn.MaxPool2d(kernel_size=3, stride=2),\n",
    "            nn.Conv2d(64, 192, kernel_size=5, padding=2),\n",
    "            nn.ReLU(inplace=True),\n",
    "            nn.LocalResponseNorm(5, alpha = 0.0001, beta = 0.75, k = 2.0),\n",
    "            nn.MaxPool2d(kernel_size=3, stride=2),\n",
    "            nn.Conv2d(192, 384, kernel_size=3, padding=1),\n",
    "            nn.ReLU(inplace=True),\n",
    "            nn.Conv2d(384, 256, kernel_size=3, padding=1),\n",
    "            nn.ReLU(inplace=True),\n",
    "            nn.Conv2d(256, 256, kernel_size=3, padding=1),\n",
    "            nn.ReLU(inplace=True),\n",
    "            nn.MaxPool2d(kernel_size=3, stride=2),\n",
    "        )\n",
    "        self.avgpool = nn.AdaptiveAvgPool2d((6, 6))\n",
    "        self.classifier = nn.Sequential(\n",
    "            nn.Dropout(),\n",
    "            nn.Linear(256 * 6 * 6, 4096),\n",
    "            nn.ReLU(inplace=True),\n",
    "            nn.Dropout(),\n",
    "            nn.Linear(4096, 4096),\n",
    "            nn.ReLU(inplace=True),\n",
    "            nn.Linear(4096, num_classes),\n",
    "        )\n",
    "\n",
    "    def forward(self, x: torch.Tensor) -> torch.Tensor:\n",
    "        x = self.features(x)\n",
    "        x = self.avgpool(x)\n",
    "        x = torch.flatten(x, 1)\n",
    "        x = self.classifier(x)\n",
    "        return x"
   ]
  },
  {
   "cell_type": "code",
   "execution_count": 20,
   "id": "91a9b6d7",
   "metadata": {},
   "outputs": [],
   "source": [
    "alexnet_module_lrn = AlexNetModuleLRN(10)\n",
    "alexnet_module_lrn = alexnet_module_lrn.to(device)"
   ]
  },
  {
   "cell_type": "code",
   "execution_count": 21,
   "id": "d701644a",
   "metadata": {},
   "outputs": [],
   "source": [
    "criterion_2 = nn.CrossEntropyLoss()\n",
    "params_to_update_2 = alexnet_module_lrn.parameters()\n",
    "optimizer_2 = optim.SGD(params_to_update_2, lr=0.001, momentum=0.9)"
   ]
  },
  {
   "cell_type": "code",
   "execution_count": 27,
   "id": "b8e13de0",
   "metadata": {},
   "outputs": [
    {
     "name": "stdout",
     "output_type": "stream",
     "text": [
      "AlexNetModuleLRN(\n",
      "  (features): Sequential(\n",
      "    (0): Conv2d(3, 64, kernel_size=(11, 11), stride=(4, 4), padding=(2, 2))\n",
      "    (1): ReLU(inplace=True)\n",
      "    (2): LocalResponseNorm(5, alpha=0.0001, beta=0.75, k=2.0)\n",
      "    (3): MaxPool2d(kernel_size=3, stride=2, padding=0, dilation=1, ceil_mode=False)\n",
      "    (4): Conv2d(64, 192, kernel_size=(5, 5), stride=(1, 1), padding=(2, 2))\n",
      "    (5): ReLU(inplace=True)\n",
      "    (6): LocalResponseNorm(5, alpha=0.0001, beta=0.75, k=2.0)\n",
      "    (7): MaxPool2d(kernel_size=3, stride=2, padding=0, dilation=1, ceil_mode=False)\n",
      "    (8): Conv2d(192, 384, kernel_size=(3, 3), stride=(1, 1), padding=(1, 1))\n",
      "    (9): ReLU(inplace=True)\n",
      "    (10): Conv2d(384, 256, kernel_size=(3, 3), stride=(1, 1), padding=(1, 1))\n",
      "    (11): ReLU(inplace=True)\n",
      "    (12): Conv2d(256, 256, kernel_size=(3, 3), stride=(1, 1), padding=(1, 1))\n",
      "    (13): ReLU(inplace=True)\n",
      "    (14): MaxPool2d(kernel_size=3, stride=2, padding=0, dilation=1, ceil_mode=False)\n",
      "  )\n",
      "  (avgpool): AdaptiveAvgPool2d(output_size=(6, 6))\n",
      "  (classifier): Sequential(\n",
      "    (0): Dropout(p=0.5, inplace=False)\n",
      "    (1): Linear(in_features=9216, out_features=4096, bias=True)\n",
      "    (2): ReLU(inplace=True)\n",
      "    (3): Dropout(p=0.5, inplace=False)\n",
      "    (4): Linear(in_features=4096, out_features=4096, bias=True)\n",
      "    (5): ReLU(inplace=True)\n",
      "    (6): Linear(in_features=4096, out_features=10, bias=True)\n",
      "  )\n",
      ") has 57,044,810 trainable parameters\n"
     ]
    }
   ],
   "source": [
    "def count_parameters(model):\n",
    "    return sum(p.numel() for p in model.parameters() if p.requires_grad)\n",
    "\n",
    "print(f'{alexnet_module_lrn} has {count_parameters(alexnet_module_lrn):,} trainable parameters')"
   ]
  },
  {
   "cell_type": "code",
   "execution_count": 23,
   "id": "01d188a8",
   "metadata": {},
   "outputs": [
    {
     "name": "stdout",
     "output_type": "stream",
     "text": [
      "Epoch 0/9\n",
      "----------\n",
      "train Loss: 2.0638 Acc: 0.2182\n",
      "Epoch time taken:  75.92404508590698\n",
      "val Loss: 1.6137 Acc: 0.3951\n",
      "Epoch time taken:  85.11847519874573\n",
      "\n",
      "Epoch 1/9\n",
      "----------\n",
      "train Loss: 1.4808 Acc: 0.4542\n",
      "Epoch time taken:  75.82231950759888\n",
      "val Loss: 1.2999 Acc: 0.5323\n",
      "Epoch time taken:  85.02785992622375\n",
      "\n",
      "Epoch 2/9\n",
      "----------\n",
      "train Loss: 1.1917 Acc: 0.5706\n",
      "Epoch time taken:  75.47426509857178\n",
      "val Loss: 1.0451 Acc: 0.6247\n",
      "Epoch time taken:  84.88764691352844\n",
      "\n",
      "Epoch 3/9\n",
      "----------\n",
      "train Loss: 0.9785 Acc: 0.6541\n",
      "Epoch time taken:  76.00692176818848\n",
      "val Loss: 0.9992 Acc: 0.6552\n",
      "Epoch time taken:  85.20190382003784\n",
      "\n",
      "Epoch 4/9\n",
      "----------\n",
      "train Loss: 0.8332 Acc: 0.7078\n",
      "Epoch time taken:  75.77500486373901\n",
      "val Loss: 0.7896 Acc: 0.7281\n",
      "Epoch time taken:  84.87874293327332\n",
      "\n",
      "Epoch 5/9\n",
      "----------\n",
      "train Loss: 0.7193 Acc: 0.7490\n",
      "Epoch time taken:  75.85258889198303\n",
      "val Loss: 0.6799 Acc: 0.7670\n",
      "Epoch time taken:  84.87489867210388\n",
      "\n",
      "Epoch 6/9\n",
      "----------\n",
      "train Loss: 0.6273 Acc: 0.7817\n",
      "Epoch time taken:  76.35792231559753\n",
      "val Loss: 0.6754 Acc: 0.7730\n",
      "Epoch time taken:  85.30910062789917\n",
      "\n",
      "Epoch 7/9\n",
      "----------\n",
      "train Loss: 0.5474 Acc: 0.8076\n",
      "Epoch time taken:  76.24668598175049\n",
      "val Loss: 0.6426 Acc: 0.7821\n",
      "Epoch time taken:  85.43060088157654\n",
      "\n",
      "Epoch 8/9\n",
      "----------\n",
      "train Loss: 0.4790 Acc: 0.8319\n",
      "Epoch time taken:  75.53927803039551\n",
      "val Loss: 0.6213 Acc: 0.7923\n",
      "Epoch time taken:  84.64329791069031\n",
      "\n",
      "Epoch 9/9\n",
      "----------\n",
      "train Loss: 0.4145 Acc: 0.8536\n",
      "Epoch time taken:  76.11679768562317\n",
      "val Loss: 0.5809 Acc: 0.8101\n",
      "Epoch time taken:  85.51020932197571\n",
      "\n",
      "Training complete in 14m 38s\n",
      "Best val Acc: 0.810100\n"
     ]
    }
   ],
   "source": [
    "best_model2, val_acc_history2, loss_acc_history2 = train_model(alexnet_module_lrn, dataloaders, criterion_2, optimizer_2, 10, 'alex_module_lr_0.001_bestsofar_LRN')\n"
   ]
  },
  {
   "cell_type": "code",
   "execution_count": 24,
   "id": "1d68b346",
   "metadata": {},
   "outputs": [],
   "source": [
    "import matplotlib.pyplot as plt\n",
    "\n",
    "def plot_data(val_acc_history, loss_acc_history):\n",
    "    plt.plot(loss_acc_history, label = 'Validation')\n",
    "    plt.title('Loss per epoch')\n",
    "    plt.legend()\n",
    "    plt.show()\n",
    "    plt.plot(val_acc_history, label = 'Validation')\n",
    "    plt.title('Accuracy per epoch')\n",
    "    plt.legend()\n",
    "    plt.show()"
   ]
  },
  {
   "cell_type": "code",
   "execution_count": 25,
   "id": "8f2a7bde",
   "metadata": {},
   "outputs": [
    {
     "data": {
      "image/png": "[encoded data removed]",
      "text/plain": [
       "<Figure size 432x288 with 1 Axes>"
      ]
     },
     "metadata": {
      "needs_background": "light"
     },
     "output_type": "display_data"
    },
    {
     "data": {
      "image/png": "[encoded data removed]",
      "text/plain": [
       "<Figure size 432x288 with 1 Axes>"
      ]
     },
     "metadata": {
      "needs_background": "light"
     },
     "output_type": "display_data"
    }
   ],
   "source": [
    "plot_data(val_acc_history2, loss_acc_history2)"
   ]
  },
  {
   "cell_type": "markdown",
   "id": "75ec553b",
   "metadata": {},
   "source": [
    "#### Alexnet with LRN and without have similar validation accuracies of approximately 85%."
   ]
  }
 ],
 "metadata": {
  "kernelspec": {
   "display_name": "Python 3",
   "language": "python",
   "name": "python3"
  },
  "language_info": {
   "codemirror_mode": {
    "name": "ipython",
    "version": 3
   },
   "file_extension": ".py",
   "mimetype": "text/x-python",
   "name": "python",
   "nbconvert_exporter": "python",
   "pygments_lexer": "ipython3",
   "version": "3.6.9"
  }
 },
 "nbformat": 4,
 "nbformat_minor": 5
}
